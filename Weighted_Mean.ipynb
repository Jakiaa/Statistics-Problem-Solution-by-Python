{
  "nbformat": 4,
  "nbformat_minor": 0,
  "metadata": {
    "colab": {
      "provenance": [],
      "authorship_tag": "ABX9TyN+v9/qyy0zE5OtsncXdkuc",
      "include_colab_link": true
    },
    "kernelspec": {
      "name": "python3",
      "display_name": "Python 3"
    },
    "language_info": {
      "name": "python"
    }
  },
  "cells": [
    {
      "cell_type": "markdown",
      "metadata": {
        "id": "view-in-github",
        "colab_type": "text"
      },
      "source": [
        "<a href=\"https://colab.research.google.com/github/Jakiaa/Statistics-Problem-Solution-by-Python/blob/main/Weighted_Mean.ipynb\" target=\"_parent\"><img src=\"https://colab.research.google.com/assets/colab-badge.svg\" alt=\"Open In Colab\"/></a>"
      ]
    },
    {
      "cell_type": "code",
      "execution_count": null,
      "metadata": {
        "colab": {
          "base_uri": "https://localhost:8080/"
        },
        "id": "emAgbHuQlJyO",
        "outputId": "6d467951-ba75-40dd-8a79-eb6b4f53603b"
      },
      "outputs": [
        {
          "output_type": "stream",
          "name": "stdout",
          "text": [
            "Enter the size: 3\n",
            "2 3 4\n",
            "2 1 1\n",
            "11\n"
          ]
        }
      ],
      "source": [
        "input_size=int(input(\"Enter the size: \"))\n",
        "number_list=list(map(int, input().split()))\n",
        "weight_list=list(map(int, input().split()))\n",
        "weighted_mean=0\n",
        "for i in range(input_size):\n",
        "  weighted_mean=weighted_mean+(number_list[i]*weight_list[i])\n",
        "print(weighted_mean)"
      ]
    }
  ]
}