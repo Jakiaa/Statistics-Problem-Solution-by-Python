{
  "nbformat": 4,
  "nbformat_minor": 0,
  "metadata": {
    "colab": {
      "provenance": [],
      "authorship_tag": "ABX9TyPyz97D79ByED7RrEKBLzZK",
      "include_colab_link": true
    },
    "kernelspec": {
      "name": "python3",
      "display_name": "Python 3"
    },
    "language_info": {
      "name": "python"
    }
  },
  "cells": [
    {
      "cell_type": "markdown",
      "metadata": {
        "id": "view-in-github",
        "colab_type": "text"
      },
      "source": [
        "<a href=\"https://colab.research.google.com/github/Jakiaa/Statistics-Problem-Solution-by-Python/blob/main/Mean_Mode_Median_SD.ipynb\" target=\"_parent\"><img src=\"https://colab.research.google.com/assets/colab-badge.svg\" alt=\"Open In Colab\"/></a>"
      ]
    },
    {
      "cell_type": "code",
      "execution_count": null,
      "metadata": {
        "id": "riBv616SMQhb"
      },
      "outputs": [],
      "source": [
        "import numpy as np\n",
        "from scipy import stats as st"
      ]
    },
    {
      "cell_type": "code",
      "source": [
        "input_size=int(input(\"Enter the array size: \"))\n",
        "number_list=list(map(int,input().split()))\n",
        "#number_list\n",
        "print(\"Mean: \", np.mean(number_list))\n",
        "print(\"Median: \", np.median(number_list))\n",
        "print(\"Mode: \", int(st.mode(number_list)[0]))\n",
        "print(\"SD: \", (np.std(number_list)))"
      ],
      "metadata": {
        "colab": {
          "base_uri": "https://localhost:8080/"
        },
        "id": "j95ncjIeOVKm",
        "outputId": "76eac79b-319d-43e2-8871-8761822c26b5"
      },
      "execution_count": null,
      "outputs": [
        {
          "output_type": "stream",
          "name": "stdout",
          "text": [
            "Enter the array size: 4\n",
            "5 7 9 9\n",
            "Mean:  7.5\n",
            "Median:  8.0\n",
            "Mode:  9\n",
            "SD:  1.6583123951777\n"
          ]
        }
      ]
    },
    {
      "cell_type": "code",
      "source": [
        "a=np.random.randn(1, 5, 6)\n",
        "print(a)\n",
        "\n",
        "print(\"Mean: \", np.mean(a))\n",
        "print(\"Median: \", np.median(a))\n",
        "#print(\"Mode: \", int(st.mode(number_list)[0]))\n",
        "print(\"SD: \", (np.std(a)))"
      ],
      "metadata": {
        "colab": {
          "base_uri": "https://localhost:8080/"
        },
        "id": "vk9jzemtbQI-",
        "outputId": "c71ea7a0-4929-458c-e53c-5f4d625149fb"
      },
      "execution_count": null,
      "outputs": [
        {
          "output_type": "stream",
          "name": "stdout",
          "text": [
            "[[[-0.6503706   1.40687209  0.04868822  0.16820019 -2.2133591\n",
            "    0.54537209]\n",
            "  [ 0.36914974  0.80743974 -0.96662991  1.91784745 -1.05437612\n",
            "    0.09095917]\n",
            "  [ 0.67273436 -1.41514918 -0.15637634 -1.52306522 -0.90788549\n",
            "   -1.27053242]\n",
            "  [ 0.55919289 -0.22550641  0.30464748  0.49772188  2.32165627\n",
            "   -0.13495626]\n",
            "  [ 0.71632549  1.87733095  0.37243249  0.28691796 -0.81945825\n",
            "   -1.19053087]]]\n",
            "Mean:  0.01450974291008389\n",
            "Median:  0.1295796776909486\n",
            "SD:  1.0620958083438692\n"
          ]
        }
      ]
    },
    {
      "cell_type": "code",
      "source": [],
      "metadata": {
        "id": "MdtEXgT3aIdk"
      },
      "execution_count": null,
      "outputs": []
    }
  ]
}